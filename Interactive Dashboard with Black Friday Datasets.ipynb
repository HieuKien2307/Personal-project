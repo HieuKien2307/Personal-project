{
 "cells": [
  {
   "cell_type": "code",
   "execution_count": 1,
   "id": "6eded2fd",
   "metadata": {},
   "outputs": [],
   "source": [
    "#Import thư viện\n",
    "import matplotlib\n",
    "import matplotlib.pyplot as plt\n",
    "from matplotlib.gridspec import GridSpec\n",
    "import datetime as dt\n",
    "import numpy as np\n",
    "import pandas as pd\n",
    "import warnings\n",
    "warnings.filterwarnings('ignore',category=FutureWarning)\n",
    "%matplotlib inline"
   ]
  },
  {
   "cell_type": "code",
   "execution_count": 2,
   "id": "399e2e25",
   "metadata": {},
   "outputs": [],
   "source": [
    "plt.style.use('seaborn-dark')\n",
    "df = pd.read_csv(r\"C:\\Project\\train.csv\")"
   ]
  },
  {
   "cell_type": "code",
   "execution_count": 3,
   "id": "411af771",
   "metadata": {},
   "outputs": [],
   "source": [
    "import ipywidgets as widgets\n",
    "from IPython.display import display"
   ]
  },
  {
   "cell_type": "code",
   "execution_count": 4,
   "id": "a78095b4",
   "metadata": {},
   "outputs": [
    {
     "data": {
      "application/vnd.jupyter.widget-view+json": {
       "model_id": "f6e3682ec9d24e71b75dc6c9dd896974",
       "version_major": 2,
       "version_minor": 0
      },
      "text/plain": [
       "VBox(children=(Dropdown(options=('P00000142', 'P00000242', 'P00000342', 'P00000442', 'P00000542', 'P00000642',…"
      ]
     },
     "metadata": {},
     "output_type": "display_data"
    }
   ],
   "source": [
    "import pandas as pd\n",
    "import numpy as np\n",
    "import ipywidgets as widgets\n",
    "\n",
    "# Tạo dataframe với thông tin sản phẩm\n",
    "df = pd.read_csv(r\"C:\\Project\\train.csv\")\n",
    "# Loại bỏ các giá trị trống (NA)\n",
    "df = df.dropna(subset=['Product_Category_1'])\n",
    "\n",
    "# Tạo list các product_id\n",
    "product_id_list = sorted(df['Product_ID'].unique())\n",
    "\n",
    "# Tạo dropdown widget để lựa chọn product_id\n",
    "product_id_dropdown = widgets.Dropdown(options=product_id_list)\n",
    "\n",
    "# Tạo output widget để hiển thị kết quả\n",
    "output = widgets.Output()\n",
    "\n",
    "# Tạo hàm xử lý sự kiện thay đổi giá trị dropdown\n",
    "def on_product_id_change(change):\n",
    "    # Lấy product_id từ dropdown\n",
    "    product_id = change['new']\n",
    "    \n",
    "    # Lọc dữ liệu theo product_id\n",
    "    df_product = df[df['Product_ID'] == product_id].iloc[0]\n",
    "    \n",
    "    # Tạo list các product_category\n",
    "    product_category_list = []\n",
    "    \n",
    "    # Thêm product_category_1 vào danh sách\n",
    "    product_category_list.append(f\"Product Category1: {df_product['Product_Category_1']}\")\n",
    "    \n",
    "    # Kiểm tra product_category_2 có giá trị không\n",
    "    if not np.isnan(df_product['Product_Category_2']):\n",
    "        product_category_list.append(f\"Product_Category 2: {int(df_product['Product_Category_2'])}\")\n",
    "    else:\n",
    "        product_category_list.append('Product_Category 2: NA')\n",
    "    \n",
    "    # Kiểm tra product_category_3 có giá trị không\n",
    "    if not np.isnan(df_product['Product_Category_3']):\n",
    "        product_category_list.append(f\"Product_Category 3: {int(df_product['Product_Category_3'])}\")\n",
    "    else:\n",
    "        product_category_list.append('Product_Category 3: NA')\n",
    "    \n",
    "    # Hiển thị kết quả\n",
    "    with output:\n",
    "        output.clear_output()\n",
    "        print(f\"Product ID: {product_id}\")\n",
    "        print('\\n'.join(product_category_list))\n",
    "\n",
    "# Đăng ký sự kiện thay đổi giá trị dropdown\n",
    "product_id_dropdown.observe(on_product_id_change, names='value')\n",
    "\n",
    "# Hiển thị widget\n",
    "display(widgets.VBox([product_id_dropdown, output]))\n"
   ]
  },
  {
   "cell_type": "code",
   "execution_count": 5,
   "id": "7ab6ebf5",
   "metadata": {},
   "outputs": [],
   "source": [
    "# Đọc tập tin CSV và lưu vào DataFrame\n",
    "df = pd.read_csv(r\"C:\\Project\\train.csv\")"
   ]
  },
  {
   "cell_type": "code",
   "execution_count": 6,
   "id": "b65baa9b",
   "metadata": {},
   "outputs": [
    {
     "data": {
      "application/vnd.jupyter.widget-view+json": {
       "model_id": "a239eb7d0b2d45c1b61f877913791e1f",
       "version_major": 2,
       "version_minor": 0
      },
      "text/plain": [
       "Dropdown(options=('P00000142', 'P00000242', 'P00000342', 'P00000442', 'P00000542', 'P00000642', 'P00000742', '…"
      ]
     },
     "metadata": {},
     "output_type": "display_data"
    },
    {
     "data": {
      "application/vnd.jupyter.widget-view+json": {
       "model_id": "82c3a61573ac4b899893e59f138dc389",
       "version_major": 2,
       "version_minor": 0
      },
      "text/plain": [
       "Output()"
      ]
     },
     "metadata": {},
     "output_type": "display_data"
    }
   ],
   "source": [
    "import pandas as pd\n",
    "import ipywidgets as widgets\n",
    "from IPython.display import display, clear_output\n",
    "\n",
    "# Đọc tập tin CSV và lưu vào DataFrame\n",
    "df = pd.read_csv(r\"C:\\Project\\train.csv\")\n",
    "# Đếm số lần xuất hiện của cặp (User_ID, Product_ID) duy nhất\n",
    "unique_counts = df.groupby('Product_ID')['User_ID'].nunique()\n",
    "\n",
    "# Tạo widget Dropdown với danh sách các Product_ID duy nhất\n",
    "product_dropdown = widgets.Dropdown(options=sorted(df['Product_ID'].unique()))\n",
    "\n",
    "# Tạo widget Output để hiển thị kết quả\n",
    "output = widgets.Output()\n",
    "\n",
    "# Hàm xử lý sự kiện khi người dùng chọn một sản phẩm\n",
    "def on_product_select(change):\n",
    "    # Xóa nội dung của widget Output\n",
    "    with output:\n",
    "        clear_output()\n",
    "    \n",
    "    # Lấy Product_ID được chọn\n",
    "    product_id = change.new\n",
    "    \n",
    "    # Lấy số lượng khách hàng đã mua sản phẩm đó\n",
    "    count = unique_counts.get(product_id, 0)\n",
    "    \n",
    "    # Hiển thị kết quả\n",
    "    with output:\n",
    "        display(widgets.HTML(f\"<h3>{count} khách hàng đã mua sản phẩm {product_id}</h3>\"))\n",
    "\n",
    "# Đăng ký hàm xử lý sự kiện khi người dùng chọn một sản phẩm\n",
    "product_dropdown.observe(on_product_select, names='value')\n",
    "\n",
    "# Hiển thị widget Dropdown và widget Output\n",
    "display(product_dropdown)\n",
    "display(output)\n"
   ]
  },
  {
   "cell_type": "code",
   "execution_count": 22,
   "id": "e220a105",
   "metadata": {},
   "outputs": [
    {
     "data": {
      "application/vnd.jupyter.widget-view+json": {
       "model_id": "d716282829564254ad0ad0476978d0c9",
       "version_major": 2,
       "version_minor": 0
      },
      "text/plain": [
       "interactive(children=(Dropdown(description='product_id', options=('P00069042', 'P00248942', 'P00087842', 'P000…"
      ]
     },
     "metadata": {},
     "output_type": "display_data"
    }
   ],
   "source": [
    "import plotly.express as px\n",
    "import ipywidgets as widgets\n",
    "from IPython.display import display\n",
    "import matplotlib.pyplot as plt\n",
    "from matplotlib.gridspec import GridSpec\n",
    "from IPython.display import clear_output\n",
    "\n",
    "df = pd.read_csv(r\"C:\\Project\\train.csv\")\n",
    "\n",
    "# Replace values\n",
    "df['Gender'] = df['Gender'].replace(['F', 'M'], ['Female', 'Male'])\n",
    "df['Marital_Status'] = df['Marital_Status'].replace([0,1], ['Single', 'Married'])\n",
    "\n",
    "def plot_dashboard(product_id):\n",
    "    # Filter data based on product_id\n",
    "    df_product = df[df['Product_ID'] == product_id]\n",
    "    # Clear existing figure\n",
    "    plt.clf()\n",
    "    # Calculate metrics\n",
    "    num_users = df_product['User_ID'].nunique()\n",
    "    total_purchase = df_product[\"Purchase\"].sum()\n",
    "    median_purchase = total_purchase/num_users\n",
    "    gender_counts = df_product.groupby('Gender')['User_ID'].nunique()\n",
    "    purchase_by_gender = df_product.groupby('Gender')['Purchase'].sum()\n",
    "\n",
    "    # Create plots\n",
    "    fig = plt.figure(figsize=(18,10))\n",
    "    gs = GridSpec(1, 3, figure=fig, width_ratios=[6.3,2.2, 2.2]) \n",
    "\n",
    "    # ax1 plot\n",
    "    ax1 = fig.add_subplot(gs[0:3, 0:3])\n",
    "    age_gender_counts = df_product.groupby(['Age', 'Gender'])['User_ID'].nunique().reset_index()\n",
    "    male_data = age_gender_counts[age_gender_counts['Gender'] == 'Male']\n",
    "    female_data = age_gender_counts[age_gender_counts['Gender'] == 'Female']\n",
    "    ax1.bar(male_data['Age'], male_data['User_ID'], color='cornflowerblue',alpha = 1,label='Nam')\n",
    "    ax1.bar(female_data['Age'], female_data['User_ID'], color='orange', alpha = 1,label='Nữ')\n",
    "    ax1.set_xlabel('Nhóm tuổi',fontsize = 20)\n",
    "    ax1.set_ylabel('Khách hàng',fontsize = 20)\n",
    "    ax1.legend()\n",
    "    for index, row in male_data.iterrows():\n",
    "        ax1.text(row['Age'], row['User_ID'], str(row['User_ID']), ha='center', va='bottom')\n",
    "    for index, row in female_data.iterrows():\n",
    "        ax1.text(row['Age'], row['User_ID'], str(row['User_ID']), ha='center', va='bottom')\n",
    "    # ax2 plot\n",
    "    ax2 = fig.add_subplot(gs[0, 2:4], aspect=(3))\n",
    "    colors = ['orange', 'cornflowerblue']\n",
    "    ax2.pie(gender_counts,  autopct='%1.1f%%',colors=colors, wedgeprops={'edgecolor': 'black', 'linewidth': 1})\n",
    "    ax2.set_title('Tỉ lệ giới tính',fontweight='bold')\n",
    "   # ax3 plot\n",
    "    ax3 = fig.add_subplot(gs[0, 1:2], aspect=(80))\n",
    "    purchase_by_gender = df.groupby('Gender')['Purchase'].sum()\n",
    "    purchase_ratio =purchase_by_gender / total_purchase\n",
    "    sizes = purchase_by_gender.values\n",
    "    colors = ['orange','cornflowerblue']\n",
    "    ax3.pie([1], radius=0.3, colors=['white'],wedgeprops={'edgecolor': 'black', 'linewidth': 1})\n",
    "    wedges, texts, autotexts = ax3.pie(sizes, colors=colors, autopct='%1.1f%%', startangle=90, pctdistance=0.85, labeldistance=1.1,\n",
    "                                   wedgeprops={'edgecolor': 'black', 'linewidth': 1})\n",
    "    centre_circle = plt.Circle((0,0),0.68,color='black', fc='white',linewidth=1.25)\n",
    "    fig.gca().add_artist(centre_circle)\n",
    "    revenue_text = 'Doanh thu trung bình:\\nNam: {:,.0f} INR\\nNữ: {:,.0f} INR'.format(purchase_by_gender['Male']/df['User_ID'].nunique(), purchase_by_gender['Female']/df['User_ID'].nunique())\n",
    "    plt.text(0,0,s=revenue_text, ha='center', va='center', fontsize=9.5)\n",
    "    ax3.set_title('Tỉ lệ doanh thu theo giới tính khách hàng',fontweight='bold')\n",
    "\n",
    "product_id_widget = widgets.Dropdown(\n",
    "    options=df['Product_ID'].unique(),\n",
    "    value=df['Product_ID'].iloc[0],\n",
    "    description='Product ID:'\n",
    ")\n",
    "def on_product_id_change(change):\n",
    "    product_id = change.new\n",
    "    product_id_widget.value = product_id \n",
    "    clear_output(wait=True)  # xóa bỏ output cũ\n",
    "    plot_dashboard(product_id)\n",
    "from ipywidgets import interact\n",
    "\n",
    "@interact(product_id=df['Product_ID'].unique())\n",
    "def plot_interactive_dashboard(product_id):\n",
    "    clear_output(wait=True)  # xóa bỏ output cũ\n",
    "    plot_dashboard(product_id)\n",
    "product_id_widget.observe(on_product_id_change, names='value')\n"
   ]
  },
  {
   "cell_type": "code",
   "execution_count": null,
   "id": "c0a1306f",
   "metadata": {},
   "outputs": [],
   "source": [
    "    clear_output(wait=True)  # xóa bỏ output cũ"
   ]
  },
  {
   "cell_type": "code",
   "execution_count": 8,
   "id": "82c19bd0",
   "metadata": {},
   "outputs": [
    {
     "data": {
      "application/vnd.jupyter.widget-view+json": {
       "model_id": "de9e67a0d040407ca3dbff305b9ede46",
       "version_major": 2,
       "version_minor": 0
      },
      "text/plain": [
       "VBox(children=(Dropdown(options=('P00000142', 'P00000242', 'P00000342', 'P00000442', 'P00000542', 'P00000642',…"
      ]
     },
     "metadata": {},
     "output_type": "display_data"
    }
   ],
   "source": [
    "import pandas as pd\n",
    "import numpy as np\n",
    "import ipywidgets as widgets\n",
    "from IPython.display import display\n",
    "\n",
    "# Đọc dữ liệu\n",
    "df = pd.read_csv(r\"C:\\Project\\train.csv\")\n",
    "\n",
    "# Loại bỏ các giá trị trống (NA)\n",
    "df = df.dropna(subset=['Product_Category_1'])\n",
    "\n",
    "# Tạo list các product_id\n",
    "product_id_list = sorted(df['Product_ID'].unique())\n",
    "\n",
    "# Tạo dropdown widget để lựa chọn product_id\n",
    "product_id_dropdown = widgets.Dropdown(options=product_id_list)\n",
    "\n",
    "# Tạo output widget để hiển thị kết quả\n",
    "output = widgets.Output()\n",
    "\n",
    "# Tạo hàm xử lý sự kiện thay đổi giá trị dropdown\n",
    "def on_product_id_change(change):\n",
    "    # Lấy product_id từ dropdown\n",
    "    product_id = change['new']\n",
    "    \n",
    "    # Lọc dữ liệu theo product_id\n",
    "    df_product = df[df['Product_ID'] == product_id]\n",
    "    \n",
    "    # Tính tình trạng hôn nhân và doanh thu\n",
    "    married_count = df_product[df_product['Marital_Status'] == 1].shape[0]\n",
    "    single_count = df_product[df_product['Marital_Status'] == 0].shape[0]\n",
    "    total_count = married_count + single_count\n",
    "    married_percent = married_count / total_count * 100\n",
    "    single_percent = single_count / total_count * 100\n",
    "    revenue = df_product['Purchase'].sum()\n",
    "    \n",
    "    # Hiển thị kết quả\n",
    "    with output:\n",
    "        output.clear_output()\n",
    "        print(f\"Product ID: {product_id}\")\n",
    "        print(f\"Total revenue: {revenue}\")\n",
    "        print(f\"Married customers: {married_count} ({married_percent:.2f}%)\")\n",
    "        print(f\"Single customers: {single_count} ({single_percent:.2f}%)\")\n",
    "\n",
    "# Đăng ký sự kiện thay đổi giá trị dropdown\n",
    "product_id_dropdown.observe(on_product_id_change, names='value')\n",
    "\n",
    "# Hiển thị widget\n",
    "display(widgets.VBox([product_id_dropdown, output]))\n",
    "\n"
   ]
  },
  {
   "cell_type": "code",
   "execution_count": null,
   "id": "8e1c3d45",
   "metadata": {},
   "outputs": [],
   "source": []
  }
 ],
 "metadata": {
  "kernelspec": {
   "display_name": "Python 3 (ipykernel)",
   "language": "python",
   "name": "python3"
  },
  "language_info": {
   "codemirror_mode": {
    "name": "ipython",
    "version": 3
   },
   "file_extension": ".py",
   "mimetype": "text/x-python",
   "name": "python",
   "nbconvert_exporter": "python",
   "pygments_lexer": "ipython3",
   "version": "3.9.13"
  }
 },
 "nbformat": 4,
 "nbformat_minor": 5
}
